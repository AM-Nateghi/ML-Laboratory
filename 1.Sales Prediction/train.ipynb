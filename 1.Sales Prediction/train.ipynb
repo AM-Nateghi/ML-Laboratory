{
 "cells": [
  {
   "cell_type": "markdown",
   "id": "8d7593cd",
   "metadata": {},
   "source": [
    "# Sales Prediction\n",
    "we will build a model to predict sales."
   ]
  },
  {
   "cell_type": "code",
   "execution_count": 1,
   "id": "1a6ec5ef",
   "metadata": {},
   "outputs": [],
   "source": [
    "import matplotlib.pyplot as plt\n",
    "import numpy as np\n",
    "import pandas as pd\n",
    "from sklearn.preprocessing import StandardScaler, RobustScaler, LabelEncoder, OneHotEncoder\n",
    "from sklearn.model_selection import GridSearchCV, train_test_split\n",
    "from sklearn.cluster import DBSCAN\n",
    "import joblib # for save model"
   ]
  },
  {
   "cell_type": "markdown",
   "id": "422dc7b3",
   "metadata": {},
   "source": [
    "# Data Preprocessing"
   ]
  },
  {
   "cell_type": "code",
   "execution_count": 2,
   "id": "07df1ee5",
   "metadata": {},
   "outputs": [
    {
     "data": {
      "text/html": [
       "<div>\n",
       "<style scoped>\n",
       "    .dataframe tbody tr th:only-of-type {\n",
       "        vertical-align: middle;\n",
       "    }\n",
       "\n",
       "    .dataframe tbody tr th {\n",
       "        vertical-align: top;\n",
       "    }\n",
       "\n",
       "    .dataframe thead th {\n",
       "        text-align: right;\n",
       "    }\n",
       "</style>\n",
       "<table border=\"1\" class=\"dataframe\">\n",
       "  <thead>\n",
       "    <tr style=\"text-align: right;\">\n",
       "      <th></th>\n",
       "      <th>Sales</th>\n",
       "      <th>Customers</th>\n",
       "      <th>Open</th>\n",
       "      <th>Promo</th>\n",
       "      <th>StateHoliday</th>\n",
       "      <th>SchoolHoliday</th>\n",
       "      <th>StoreType</th>\n",
       "      <th>Assortment</th>\n",
       "      <th>CompetitionDistance</th>\n",
       "      <th>CompetitionOpenSinceMonth</th>\n",
       "      <th>CompetitionOpenSinceYear</th>\n",
       "      <th>Promo2</th>\n",
       "      <th>Promo2SinceWeek</th>\n",
       "      <th>Promo2SinceYear</th>\n",
       "      <th>PromoInterval</th>\n",
       "      <th>month</th>\n",
       "      <th>year</th>\n",
       "    </tr>\n",
       "  </thead>\n",
       "  <tbody>\n",
       "    <tr>\n",
       "      <th>0</th>\n",
       "      <td>5571</td>\n",
       "      <td>560</td>\n",
       "      <td>1</td>\n",
       "      <td>1</td>\n",
       "      <td>0</td>\n",
       "      <td>1</td>\n",
       "      <td>c</td>\n",
       "      <td>a</td>\n",
       "      <td>1270.0</td>\n",
       "      <td>9.0</td>\n",
       "      <td>2008.0</td>\n",
       "      <td>0</td>\n",
       "      <td>NaN</td>\n",
       "      <td>NaN</td>\n",
       "      <td>NaN</td>\n",
       "      <td>7</td>\n",
       "      <td>15</td>\n",
       "    </tr>\n",
       "    <tr>\n",
       "      <th>1</th>\n",
       "      <td>6714</td>\n",
       "      <td>612</td>\n",
       "      <td>1</td>\n",
       "      <td>1</td>\n",
       "      <td>0</td>\n",
       "      <td>1</td>\n",
       "      <td>c</td>\n",
       "      <td>a</td>\n",
       "      <td>1270.0</td>\n",
       "      <td>9.0</td>\n",
       "      <td>2008.0</td>\n",
       "      <td>0</td>\n",
       "      <td>NaN</td>\n",
       "      <td>NaN</td>\n",
       "      <td>NaN</td>\n",
       "      <td>7</td>\n",
       "      <td>15</td>\n",
       "    </tr>\n",
       "    <tr>\n",
       "      <th>2</th>\n",
       "      <td>5371</td>\n",
       "      <td>519</td>\n",
       "      <td>1</td>\n",
       "      <td>1</td>\n",
       "      <td>0</td>\n",
       "      <td>0</td>\n",
       "      <td>c</td>\n",
       "      <td>a</td>\n",
       "      <td>1270.0</td>\n",
       "      <td>9.0</td>\n",
       "      <td>2008.0</td>\n",
       "      <td>0</td>\n",
       "      <td>NaN</td>\n",
       "      <td>NaN</td>\n",
       "      <td>NaN</td>\n",
       "      <td>7</td>\n",
       "      <td>15</td>\n",
       "    </tr>\n",
       "    <tr>\n",
       "      <th>3</th>\n",
       "      <td>4257</td>\n",
       "      <td>449</td>\n",
       "      <td>1</td>\n",
       "      <td>0</td>\n",
       "      <td>0</td>\n",
       "      <td>0</td>\n",
       "      <td>c</td>\n",
       "      <td>a</td>\n",
       "      <td>1270.0</td>\n",
       "      <td>9.0</td>\n",
       "      <td>2008.0</td>\n",
       "      <td>0</td>\n",
       "      <td>NaN</td>\n",
       "      <td>NaN</td>\n",
       "      <td>NaN</td>\n",
       "      <td>7</td>\n",
       "      <td>15</td>\n",
       "    </tr>\n",
       "    <tr>\n",
       "      <th>4</th>\n",
       "      <td>4209</td>\n",
       "      <td>447</td>\n",
       "      <td>1</td>\n",
       "      <td>0</td>\n",
       "      <td>0</td>\n",
       "      <td>0</td>\n",
       "      <td>c</td>\n",
       "      <td>a</td>\n",
       "      <td>1270.0</td>\n",
       "      <td>9.0</td>\n",
       "      <td>2008.0</td>\n",
       "      <td>0</td>\n",
       "      <td>NaN</td>\n",
       "      <td>NaN</td>\n",
       "      <td>NaN</td>\n",
       "      <td>6</td>\n",
       "      <td>15</td>\n",
       "    </tr>\n",
       "  </tbody>\n",
       "</table>\n",
       "</div>"
      ],
      "text/plain": [
       "   Sales  Customers  Open  Promo StateHoliday  SchoolHoliday StoreType  \\\n",
       "0   5571        560     1      1            0              1         c   \n",
       "1   6714        612     1      1            0              1         c   \n",
       "2   5371        519     1      1            0              0         c   \n",
       "3   4257        449     1      0            0              0         c   \n",
       "4   4209        447     1      0            0              0         c   \n",
       "\n",
       "  Assortment  CompetitionDistance  CompetitionOpenSinceMonth  \\\n",
       "0          a               1270.0                        9.0   \n",
       "1          a               1270.0                        9.0   \n",
       "2          a               1270.0                        9.0   \n",
       "3          a               1270.0                        9.0   \n",
       "4          a               1270.0                        9.0   \n",
       "\n",
       "   CompetitionOpenSinceYear  Promo2  Promo2SinceWeek  Promo2SinceYear  \\\n",
       "0                    2008.0       0              NaN              NaN   \n",
       "1                    2008.0       0              NaN              NaN   \n",
       "2                    2008.0       0              NaN              NaN   \n",
       "3                    2008.0       0              NaN              NaN   \n",
       "4                    2008.0       0              NaN              NaN   \n",
       "\n",
       "  PromoInterval  month  year  \n",
       "0           NaN      7    15  \n",
       "1           NaN      7    15  \n",
       "2           NaN      7    15  \n",
       "3           NaN      7    15  \n",
       "4           NaN      6    15  "
      ]
     },
     "execution_count": 2,
     "metadata": {},
     "output_type": "execute_result"
    }
   ],
   "source": [
    "_data = pd.read_csv('./RoS_train.csv')\n",
    "_data.head()"
   ]
  },
  {
   "cell_type": "code",
   "execution_count": 3,
   "id": "2c072db0",
   "metadata": {},
   "outputs": [
    {
     "name": "stdout",
     "output_type": "stream",
     "text": [
      "<class 'pandas.core.frame.DataFrame'>\n",
      "RangeIndex: 168607 entries, 0 to 168606\n",
      "Data columns (total 17 columns):\n",
      " #   Column                     Non-Null Count   Dtype  \n",
      "---  ------                     --------------   -----  \n",
      " 0   Sales                      168607 non-null  int64  \n",
      " 1   Customers                  168607 non-null  int64  \n",
      " 2   Open                       168607 non-null  int64  \n",
      " 3   Promo                      168607 non-null  int64  \n",
      " 4   StateHoliday               168607 non-null  object \n",
      " 5   SchoolHoliday              168607 non-null  int64  \n",
      " 6   StoreType                  168607 non-null  object \n",
      " 7   Assortment                 168607 non-null  object \n",
      " 8   CompetitionDistance        168179 non-null  float64\n",
      " 9   CompetitionOpenSinceMonth  114961 non-null  float64\n",
      " 10  CompetitionOpenSinceYear   114961 non-null  float64\n",
      " 11  Promo2                     168607 non-null  int64  \n",
      " 12  Promo2SinceWeek            83808 non-null   float64\n",
      " 13  Promo2SinceYear            83808 non-null   float64\n",
      " 14  PromoInterval              83808 non-null   object \n",
      " 15  month                      168607 non-null  int64  \n",
      " 16  year                       168607 non-null  int64  \n",
      "dtypes: float64(5), int64(8), object(4)\n",
      "memory usage: 21.9+ MB\n"
     ]
    }
   ],
   "source": [
    "_data.info()"
   ]
  },
  {
   "cell_type": "markdown",
   "id": "a32cd636",
   "metadata": {},
   "source": [
    "Sales is the target variable we want to predict.\n",
    "columns that need to be checked for missing values are: \n",
    "* StateHoliday\n",
    "* CompetitionDistance\n",
    "* CompetitionOpenSinceMonth\n",
    "* CompetitionOpenSinceYear\n",
    "* Promo2SinceWeek\n",
    "* Promo2SinceYear\n",
    "* PromoInterval"
   ]
  },
  {
   "cell_type": "code",
   "execution_count": 4,
   "id": "f8e3fe34",
   "metadata": {},
   "outputs": [
    {
     "name": "stdout",
     "output_type": "stream",
     "text": [
      "Sales\n",
      "unique values count: 17585\n",
      "[ 5571  6714  5371 ... 18325 23694 24043]\n",
      "\n",
      "Customers\n",
      "unique values count: 3238\n",
      "[ 560  612  519 ... 3944 2709 2874]\n",
      "\n",
      "Open\n",
      "unique values count: 1\n",
      "[1]\n",
      "\n",
      "Promo\n",
      "unique values count: 2\n",
      "[1 0]\n",
      "\n",
      "StateHoliday\n",
      "unique values count: 4\n",
      "['0' 'a' 'b' 'c']\n",
      "\n",
      "SchoolHoliday\n",
      "unique values count: 2\n",
      "[1 0]\n",
      "\n",
      "StoreType\n",
      "unique values count: 4\n",
      "['c' 'a' 'd' 'b']\n",
      "\n",
      "Assortment\n",
      "unique values count: 3\n",
      "['a' 'c' 'b']\n",
      "\n",
      "CompetitionDistance\n",
      "unique values count: 655\n",
      "[1.270e+03 5.700e+02 1.413e+04 6.200e+02 2.991e+04 3.100e+02 2.400e+04\n",
      " 7.520e+03 2.030e+03 3.160e+03 9.600e+02 1.070e+03 1.300e+03 4.110e+03\n",
      " 3.270e+03 5.000e+01 1.384e+04 3.240e+03 2.340e+03 5.500e+02 1.040e+03\n",
      " 4.060e+03 4.590e+03 4.300e+02 2.300e+03 6.000e+01 1.200e+03 2.170e+03\n",
      " 4.000e+01 9.800e+03 2.910e+03 1.320e+03 2.240e+03 7.660e+03 5.400e+02\n",
      " 4.230e+03 1.090e+03 2.600e+02 1.800e+02 1.180e+03 2.900e+02 4.880e+03\n",
      " 9.710e+03 2.700e+02 1.060e+03 1.801e+04 6.260e+03 1.057e+04 4.500e+02\n",
      " 3.036e+04 7.170e+03 7.200e+02 6.620e+03 4.200e+02 7.340e+03 2.840e+03\n",
      " 5.540e+03 3.500e+02 2.050e+03 3.700e+03 2.256e+04 4.100e+02 2.500e+02\n",
      " 1.130e+03 4.840e+03 1.750e+04 2.200e+03 1.650e+03 3.300e+02 2.244e+04\n",
      " 1.996e+04 3.510e+03 3.320e+03 7.910e+03 2.370e+03 2.239e+04 2.710e+03\n",
      " 1.181e+04 1.870e+03 4.800e+02 5.600e+02 1.069e+04 2.380e+03 2.410e+03\n",
      " 2.400e+02 1.669e+04 1.462e+04 1.890e+03 8.780e+03 8.980e+03 1.514e+04\n",
      " 1.793e+04 2.440e+03 1.500e+02 5.210e+03 3.900e+02 6.190e+03 1.390e+03\n",
      " 1.930e+03 2.190e+03 3.300e+03 4.659e+04 7.890e+03 1.630e+03 2.093e+04\n",
      " 4.510e+03 5.740e+03 6.800e+02 3.450e+03 3.580e+03 2.100e+03 2.290e+03\n",
      " 3.570e+03 5.826e+04 1.676e+04 1.410e+03 7.600e+02 3.370e+03 1.350e+03\n",
      " 2.000e+03 2.460e+03 9.000e+02 9.200e+02 5.190e+03 1.730e+03 2.536e+04\n",
      " 1.700e+03 1.540e+03 2.930e+03 1.657e+04 2.800e+02 8.050e+03 8.540e+03\n",
      " 2.090e+03 2.610e+03 3.183e+04 4.360e+03 1.780e+03 1.624e+04 1.642e+04\n",
      " 3.050e+03 2.020e+03 2.950e+03 1.184e+04 8.530e+03 1.711e+04 2.970e+03\n",
      " 5.340e+03 1.480e+03 1.160e+03 3.720e+03 1.000e+02 1.400e+02 1.254e+04\n",
      " 9.800e+02 2.640e+03 1.100e+02 1.309e+04 4.130e+03 3.770e+03 1.250e+03\n",
      " 1.710e+03 5.800e+03 1.261e+04 9.670e+03 3.560e+03 1.860e+03 1.936e+04\n",
      " 8.500e+02 5.760e+03 1.470e+03 1.100e+03 2.770e+03 5.200e+02 1.697e+04\n",
      " 2.200e+02 3.850e+03 4.210e+03 6.360e+03 2.026e+04 5.140e+03 4.900e+02\n",
      " 5.630e+03 3.800e+02 6.870e+03 3.000e+02 1.168e+04 9.700e+02 1.505e+04\n",
      " 4.030e+03 8.650e+03 1.900e+02 3.150e+03 6.400e+02 1.640e+03 1.000e+03\n",
      " 1.353e+04 2.920e+03 7.930e+03 1.018e+04 1.080e+04 1.741e+04 6.680e+03\n",
      " 3.840e+03 1.357e+04 4.370e+03 5.710e+03 1.420e+03 3.200e+02 6.100e+02\n",
      " 1.110e+03 7.800e+02 6.880e+03 7.100e+02 1.310e+03 4.660e+03 7.000e+01\n",
      " 3.400e+02 3.520e+03 2.233e+04 4.630e+03 8.000e+01 2.719e+04 2.100e+02\n",
      " 1.534e+04 1.140e+03 4.580e+03 3.600e+02 4.520e+03 1.450e+03 1.618e+04\n",
      " 8.480e+03 3.640e+03 2.960e+03 7.840e+03 9.260e+03 2.320e+03 1.864e+04\n",
      " 6.970e+03 1.220e+03 2.260e+03 1.290e+03 1.460e+03 2.740e+03 8.000e+02\n",
      " 6.540e+03 4.150e+03       nan 9.580e+03 1.984e+04 3.863e+04 1.200e+02\n",
      " 1.543e+04 1.950e+03 2.470e+03 5.100e+03 1.866e+04 8.740e+03 1.130e+04\n",
      " 1.416e+04 3.871e+04 9.000e+03 3.140e+03 3.233e+04 8.140e+03 8.400e+03\n",
      " 1.314e+04 1.007e+04 3.130e+03 3.700e+02 6.700e+02 1.840e+03 4.040e+03\n",
      " 9.000e+01 1.060e+04 1.590e+03 2.280e+03 8.080e+03 1.577e+04 1.865e+04\n",
      " 8.090e+03 9.360e+03 1.649e+04 1.490e+03 8.880e+03 5.290e+03 1.500e+03\n",
      " 9.720e+03 8.970e+03 2.060e+03 2.890e+03 2.040e+03 4.490e+03 1.362e+04\n",
      " 6.470e+03 5.870e+03 8.250e+03 1.970e+03 1.112e+04 1.150e+03 1.571e+04\n",
      " 1.600e+02 2.140e+03 6.630e+03 1.800e+03 2.613e+04 1.300e+02 6.690e+03\n",
      " 1.600e+03 4.600e+02 2.120e+03 4.820e+03 1.085e+04 3.620e+03 2.313e+04\n",
      " 5.360e+03 9.200e+03 5.830e+03 4.970e+03 1.080e+03 8.240e+03 5.890e+03\n",
      " 1.560e+03 8.400e+02 8.460e+03 4.460e+03 6.210e+03 6.910e+03 4.650e+03\n",
      " 1.620e+03 3.530e+03 2.880e+03 1.635e+04 1.287e+04 8.100e+02 3.003e+04\n",
      " 1.302e+04 9.100e+02 3.900e+03 2.530e+03 5.000e+02 1.140e+04 1.510e+03\n",
      " 3.970e+03 5.780e+03 1.850e+03 7.586e+04 2.645e+04 3.390e+03 3.405e+04\n",
      " 1.790e+03 4.432e+04 4.160e+03 1.089e+04 3.110e+03 2.039e+04 5.260e+03\n",
      " 5.300e+03 5.030e+03 1.481e+04 8.300e+03 7.700e+02 1.940e+03 7.470e+03\n",
      " 2.550e+03 2.310e+03 1.430e+04 2.180e+03 1.496e+04 6.600e+02 4.680e+03\n",
      " 1.740e+03 1.260e+03 5.470e+03 2.780e+03 1.610e+03 9.900e+02 1.308e+04\n",
      " 8.200e+02 9.070e+03 1.280e+03 4.740e+03 8.260e+03 5.900e+02 4.000e+02\n",
      " 1.126e+04 2.000e+01 2.249e+04 3.330e+03 2.510e+03 6.900e+03 1.861e+04\n",
      " 7.160e+03 4.086e+04 2.062e+04 1.292e+04 1.816e+04 5.950e+03 4.700e+03\n",
      " 6.000e+02 6.500e+02 7.280e+03 5.020e+03 5.800e+02 8.990e+03 3.760e+03\n",
      " 2.330e+03 4.260e+03 3.040e+03 3.000e+03 3.910e+03 1.910e+03 1.210e+03\n",
      " 7.000e+02 1.010e+03 4.270e+03 1.340e+03 2.110e+03 9.230e+03 1.190e+03\n",
      " 4.400e+03 2.270e+03 1.270e+04 2.097e+04 1.700e+02 7.250e+03 1.360e+03\n",
      " 4.400e+02 1.572e+04 3.340e+03 2.540e+03 3.306e+04 1.734e+04 8.220e+03\n",
      " 1.095e+04 1.031e+04 1.837e+04 2.070e+03 2.490e+03 7.300e+02 8.940e+03\n",
      " 9.910e+03 5.440e+03 3.000e+01 4.080e+03 6.920e+03 1.170e+03 1.074e+04\n",
      " 5.100e+02 1.690e+03 2.870e+03 3.350e+03 1.164e+04 2.753e+04 9.790e+03\n",
      " 1.017e+04 7.780e+03 8.040e+03 5.300e+02 2.300e+02 7.420e+03 2.130e+03\n",
      " 1.457e+04 2.000e+02 6.930e+03 7.860e+03 1.680e+03 2.700e+03 1.708e+04\n",
      " 1.517e+04 3.250e+03 4.140e+03 2.850e+03 2.005e+04 1.876e+04 1.504e+04\n",
      " 3.030e+03 3.780e+03 8.300e+02 8.550e+03 7.830e+03 2.900e+03 1.147e+04\n",
      " 4.870e+03 1.207e+04 3.200e+03 8.190e+03 1.532e+04 3.590e+03 5.650e+03\n",
      " 5.900e+03 1.754e+04 4.054e+04 1.399e+04 1.527e+04 3.528e+04 8.600e+02\n",
      " 1.920e+03 5.980e+03 6.400e+03 1.190e+04 4.380e+03 6.710e+03 1.370e+03\n",
      " 1.765e+04 4.330e+03 4.574e+04 3.410e+03 8.670e+03 1.313e+04 1.978e+04\n",
      " 2.390e+03 3.224e+04 2.649e+04 2.543e+04 9.820e+03 2.630e+03 2.064e+04\n",
      " 1.699e+04 6.300e+02 5.390e+03 1.549e+04 3.210e+03 1.530e+03 9.770e+03\n",
      " 1.728e+04 5.090e+03 7.180e+03 9.560e+03 4.833e+04 1.760e+03 2.477e+04\n",
      " 3.870e+03 1.862e+04 1.277e+04 9.640e+03 2.590e+03 2.453e+04 1.621e+04\n",
      " 1.757e+04 7.980e+03 3.290e+03 6.320e+03 5.070e+03 3.470e+03 2.720e+03\n",
      " 1.460e+04 6.890e+03 2.765e+04 8.860e+03 5.000e+03 1.120e+03 9.400e+02\n",
      " 1.404e+04 4.770e+03 3.440e+03 3.020e+03 6.270e+03 2.177e+04 7.400e+02\n",
      " 2.137e+04 1.020e+03 9.680e+03 2.181e+04 1.062e+04 3.860e+03 2.179e+04\n",
      " 2.919e+04 4.570e+03 7.550e+03 1.243e+04 1.970e+04 4.450e+03 1.867e+04\n",
      " 1.937e+04 1.854e+04 3.920e+03 3.170e+03 7.290e+03 1.980e+03 1.248e+04\n",
      " 3.100e+03 7.240e+03 1.871e+04 2.620e+03 6.420e+03 4.700e+02 5.150e+03\n",
      " 1.570e+04 5.460e+03 2.235e+04 2.810e+03 2.820e+03 6.860e+03 1.802e+04\n",
      " 1.670e+03 2.220e+03 1.430e+03 8.700e+02 6.300e+03 1.983e+04 9.430e+03\n",
      " 2.362e+04 9.630e+03 4.180e+03 3.890e+03 4.420e+03 2.193e+04 2.480e+03\n",
      " 3.460e+03 6.560e+03 5.840e+03 2.230e+03 1.964e+04 6.480e+03 4.610e+03\n",
      " 6.330e+03 1.520e+03 3.740e+03 1.990e+03 3.641e+04 7.680e+03 1.375e+04\n",
      " 2.715e+04 1.729e+04 2.699e+04 2.907e+04 3.750e+03 1.317e+04 5.080e+03\n",
      " 1.319e+04 5.350e+03 3.230e+03 3.380e+03 3.430e+03 8.110e+03 6.250e+03\n",
      " 1.202e+04 5.010e+03 1.805e+04 5.380e+03 1.668e+04 1.154e+04 2.210e+03\n",
      " 4.300e+03 5.220e+03 9.990e+03 1.045e+04 6.900e+02 1.830e+03 5.330e+03\n",
      " 1.400e+03 3.490e+03 1.900e+03 1.880e+03]\n",
      "\n",
      "CompetitionOpenSinceMonth\n",
      "unique values count: 13\n",
      "[ 9. 11. 12.  4. 10.  8. nan  3.  6.  5.  1.  2.  7.]\n",
      "\n",
      "CompetitionOpenSinceYear\n",
      "unique values count: 24\n",
      "[2008. 2007. 2006. 2009. 2015. 2013. 2014. 2000. 2011.   nan 2010. 2005.\n",
      " 1999. 2003. 2012. 2004. 2002. 1961. 1995. 2001. 1990. 1994. 1900. 1998.]\n",
      "\n",
      "Promo2\n",
      "unique values count: 2\n",
      "[0 1]\n",
      "\n",
      "Promo2SinceWeek\n",
      "unique values count: 25\n",
      "[nan 13. 14.  1. 45. 40. 26. 22.  5.  6. 10. 31. 37.  9. 39. 27. 18. 35.\n",
      " 23. 48. 36. 50. 44. 49. 28.]\n",
      "\n",
      "Promo2SinceYear\n",
      "unique values count: 8\n",
      "[  nan 2010. 2011. 2012. 2009. 2014. 2015. 2013.]\n",
      "\n",
      "PromoInterval\n",
      "unique values count: 4\n",
      "[nan 'Jan,Apr,Jul,Oct' 'Feb,May,Aug,Nov' 'Mar,Jun,Sept,Dec']\n",
      "\n",
      "month\n",
      "unique values count: 12\n",
      "[ 7  6  5  4  3  2  1 12 11 10  9  8]\n",
      "\n",
      "year\n",
      "unique values count: 3\n",
      "[15 14 13]\n",
      "\n"
     ]
    }
   ],
   "source": [
    "for col in _data.columns:\n",
    "    print(col)\n",
    "    print(f\"unique values count: {_data[col].unique().size}\")\n",
    "    print(_data[col].unique())\n",
    "    print()"
   ]
  },
  {
   "cell_type": "code",
   "execution_count": 5,
   "id": "c5025a77",
   "metadata": {},
   "outputs": [
    {
     "data": {
      "text/html": [
       "<div>\n",
       "<style scoped>\n",
       "    .dataframe tbody tr th:only-of-type {\n",
       "        vertical-align: middle;\n",
       "    }\n",
       "\n",
       "    .dataframe tbody tr th {\n",
       "        vertical-align: top;\n",
       "    }\n",
       "\n",
       "    .dataframe thead th {\n",
       "        text-align: right;\n",
       "    }\n",
       "</style>\n",
       "<table border=\"1\" class=\"dataframe\">\n",
       "  <thead>\n",
       "    <tr style=\"text-align: right;\">\n",
       "      <th></th>\n",
       "      <th>Sales</th>\n",
       "      <th>Customers</th>\n",
       "      <th>Open</th>\n",
       "      <th>Promo</th>\n",
       "      <th>SchoolHoliday</th>\n",
       "      <th>CompetitionDistance</th>\n",
       "      <th>CompetitionOpenSinceMonth</th>\n",
       "      <th>CompetitionOpenSinceYear</th>\n",
       "      <th>Promo2</th>\n",
       "      <th>Promo2SinceWeek</th>\n",
       "      <th>Promo2SinceYear</th>\n",
       "      <th>month</th>\n",
       "      <th>year</th>\n",
       "    </tr>\n",
       "  </thead>\n",
       "  <tbody>\n",
       "    <tr>\n",
       "      <th>count</th>\n",
       "      <td>168607.000000</td>\n",
       "      <td>168607.000000</td>\n",
       "      <td>168607.0</td>\n",
       "      <td>168607.000000</td>\n",
       "      <td>168607.000000</td>\n",
       "      <td>168179.000000</td>\n",
       "      <td>114961.000000</td>\n",
       "      <td>114961.000000</td>\n",
       "      <td>168607.000000</td>\n",
       "      <td>83808.000000</td>\n",
       "      <td>83808.000000</td>\n",
       "      <td>168607.000000</td>\n",
       "      <td>168607.000000</td>\n",
       "    </tr>\n",
       "    <tr>\n",
       "      <th>mean</th>\n",
       "      <td>7720.344547</td>\n",
       "      <td>763.247244</td>\n",
       "      <td>1.0</td>\n",
       "      <td>0.447081</td>\n",
       "      <td>0.193634</td>\n",
       "      <td>5452.959823</td>\n",
       "      <td>7.233845</td>\n",
       "      <td>2008.710563</td>\n",
       "      <td>0.497061</td>\n",
       "      <td>23.264533</td>\n",
       "      <td>2011.753377</td>\n",
       "      <td>5.855522</td>\n",
       "      <td>13.830737</td>\n",
       "    </tr>\n",
       "    <tr>\n",
       "      <th>std</th>\n",
       "      <td>3432.319164</td>\n",
       "      <td>401.002459</td>\n",
       "      <td>0.0</td>\n",
       "      <td>0.497193</td>\n",
       "      <td>0.395146</td>\n",
       "      <td>7822.034528</td>\n",
       "      <td>3.208495</td>\n",
       "      <td>5.965996</td>\n",
       "      <td>0.499993</td>\n",
       "      <td>14.092297</td>\n",
       "      <td>1.663020</td>\n",
       "      <td>3.327141</td>\n",
       "      <td>0.777344</td>\n",
       "    </tr>\n",
       "    <tr>\n",
       "      <th>min</th>\n",
       "      <td>326.000000</td>\n",
       "      <td>40.000000</td>\n",
       "      <td>1.0</td>\n",
       "      <td>0.000000</td>\n",
       "      <td>0.000000</td>\n",
       "      <td>20.000000</td>\n",
       "      <td>1.000000</td>\n",
       "      <td>1900.000000</td>\n",
       "      <td>0.000000</td>\n",
       "      <td>1.000000</td>\n",
       "      <td>2009.000000</td>\n",
       "      <td>1.000000</td>\n",
       "      <td>13.000000</td>\n",
       "    </tr>\n",
       "    <tr>\n",
       "      <th>25%</th>\n",
       "      <td>5417.000000</td>\n",
       "      <td>520.000000</td>\n",
       "      <td>1.0</td>\n",
       "      <td>0.000000</td>\n",
       "      <td>0.000000</td>\n",
       "      <td>710.000000</td>\n",
       "      <td>4.000000</td>\n",
       "      <td>2006.000000</td>\n",
       "      <td>0.000000</td>\n",
       "      <td>13.000000</td>\n",
       "      <td>2011.000000</td>\n",
       "      <td>3.000000</td>\n",
       "      <td>13.000000</td>\n",
       "    </tr>\n",
       "    <tr>\n",
       "      <th>50%</th>\n",
       "      <td>7078.000000</td>\n",
       "      <td>678.000000</td>\n",
       "      <td>1.0</td>\n",
       "      <td>0.000000</td>\n",
       "      <td>0.000000</td>\n",
       "      <td>2320.000000</td>\n",
       "      <td>8.000000</td>\n",
       "      <td>2010.000000</td>\n",
       "      <td>0.000000</td>\n",
       "      <td>22.000000</td>\n",
       "      <td>2012.000000</td>\n",
       "      <td>6.000000</td>\n",
       "      <td>14.000000</td>\n",
       "    </tr>\n",
       "    <tr>\n",
       "      <th>75%</th>\n",
       "      <td>9235.000000</td>\n",
       "      <td>893.000000</td>\n",
       "      <td>1.0</td>\n",
       "      <td>1.000000</td>\n",
       "      <td>0.000000</td>\n",
       "      <td>6880.000000</td>\n",
       "      <td>10.000000</td>\n",
       "      <td>2013.000000</td>\n",
       "      <td>1.000000</td>\n",
       "      <td>37.000000</td>\n",
       "      <td>2013.000000</td>\n",
       "      <td>8.000000</td>\n",
       "      <td>14.000000</td>\n",
       "    </tr>\n",
       "    <tr>\n",
       "      <th>max</th>\n",
       "      <td>43559.000000</td>\n",
       "      <td>5192.000000</td>\n",
       "      <td>1.0</td>\n",
       "      <td>1.000000</td>\n",
       "      <td>1.000000</td>\n",
       "      <td>75860.000000</td>\n",
       "      <td>12.000000</td>\n",
       "      <td>2015.000000</td>\n",
       "      <td>1.000000</td>\n",
       "      <td>50.000000</td>\n",
       "      <td>2015.000000</td>\n",
       "      <td>12.000000</td>\n",
       "      <td>15.000000</td>\n",
       "    </tr>\n",
       "  </tbody>\n",
       "</table>\n",
       "</div>"
      ],
      "text/plain": [
       "               Sales      Customers      Open          Promo  SchoolHoliday  \\\n",
       "count  168607.000000  168607.000000  168607.0  168607.000000  168607.000000   \n",
       "mean     7720.344547     763.247244       1.0       0.447081       0.193634   \n",
       "std      3432.319164     401.002459       0.0       0.497193       0.395146   \n",
       "min       326.000000      40.000000       1.0       0.000000       0.000000   \n",
       "25%      5417.000000     520.000000       1.0       0.000000       0.000000   \n",
       "50%      7078.000000     678.000000       1.0       0.000000       0.000000   \n",
       "75%      9235.000000     893.000000       1.0       1.000000       0.000000   \n",
       "max     43559.000000    5192.000000       1.0       1.000000       1.000000   \n",
       "\n",
       "       CompetitionDistance  CompetitionOpenSinceMonth  \\\n",
       "count        168179.000000              114961.000000   \n",
       "mean           5452.959823                   7.233845   \n",
       "std            7822.034528                   3.208495   \n",
       "min              20.000000                   1.000000   \n",
       "25%             710.000000                   4.000000   \n",
       "50%            2320.000000                   8.000000   \n",
       "75%            6880.000000                  10.000000   \n",
       "max           75860.000000                  12.000000   \n",
       "\n",
       "       CompetitionOpenSinceYear         Promo2  Promo2SinceWeek  \\\n",
       "count             114961.000000  168607.000000     83808.000000   \n",
       "mean                2008.710563       0.497061        23.264533   \n",
       "std                    5.965996       0.499993        14.092297   \n",
       "min                 1900.000000       0.000000         1.000000   \n",
       "25%                 2006.000000       0.000000        13.000000   \n",
       "50%                 2010.000000       0.000000        22.000000   \n",
       "75%                 2013.000000       1.000000        37.000000   \n",
       "max                 2015.000000       1.000000        50.000000   \n",
       "\n",
       "       Promo2SinceYear          month           year  \n",
       "count     83808.000000  168607.000000  168607.000000  \n",
       "mean       2011.753377       5.855522      13.830737  \n",
       "std           1.663020       3.327141       0.777344  \n",
       "min        2009.000000       1.000000      13.000000  \n",
       "25%        2011.000000       3.000000      13.000000  \n",
       "50%        2012.000000       6.000000      14.000000  \n",
       "75%        2013.000000       8.000000      14.000000  \n",
       "max        2015.000000      12.000000      15.000000  "
      ]
     },
     "execution_count": 5,
     "metadata": {},
     "output_type": "execute_result"
    }
   ],
   "source": [
    "_data.describe()"
   ]
  },
  {
   "cell_type": "code",
   "execution_count": 6,
   "id": "bf26d30f",
   "metadata": {},
   "outputs": [
    {
     "name": "stdout",
     "output_type": "stream",
     "text": [
      "Percentage of missing values in each column:\n",
      " ----------------------------------------\n",
      "Promo2SinceYear              50.293879\n",
      "Promo2SinceWeek              50.293879\n",
      "PromoInterval                50.293879\n",
      "CompetitionOpenSinceYear     31.817184\n",
      "CompetitionOpenSinceMonth    31.817184\n",
      "CompetitionDistance           0.253845\n",
      "Sales                         0.000000\n",
      "Promo                         0.000000\n",
      "Customers                     0.000000\n",
      "Assortment                    0.000000\n",
      "StoreType                     0.000000\n",
      "SchoolHoliday                 0.000000\n",
      "StateHoliday                  0.000000\n",
      "Open                          0.000000\n",
      "Promo2                        0.000000\n",
      "month                         0.000000\n",
      "year                          0.000000\n",
      "dtype: float64\n"
     ]
    }
   ],
   "source": [
    "print(\"Percentage of missing values in each column:\\n\", 40*'-')\n",
    "print(((_data.isna().sum() / _data.shape[0]) * 100).sort_values(ascending=False))"
   ]
  },
  {
   "cell_type": "code",
   "execution_count": 7,
   "id": "af747690",
   "metadata": {},
   "outputs": [
    {
     "name": "stdout",
     "output_type": "stream",
     "text": [
      "\n",
      "    Promo2 not avilable percentage: 50.29387866458688\n",
      "    \n",
      "\n",
      "    competition hasn't percentage: 0.2538447395422491\n",
      "    \n"
     ]
    }
   ],
   "source": [
    "print(f\"\"\"\n",
    "    Promo2 not avilable percentage: {len(_data.loc[_data.Promo2==0, 'Promo2'])/len(_data['Promo2']) * 100}\n",
    "    \"\"\")\n",
    "\n",
    "print(f\"\"\"\n",
    "    competition hasn't percentage: {_data['CompetitionDistance'].isna().sum()/len(_data['CompetitionDistance']) * 100}\n",
    "    \"\"\")"
   ]
  },
  {
   "cell_type": "markdown",
   "id": "3d377cdc",
   "metadata": {},
   "source": [
    "we will remove these columns:\n",
    "* Promo2SinceYear\n",
    "* Promo2SinceWeek\n",
    "* PromoInterval\n",
    "* CompetitionOpenSinceYear\n",
    "* CompetitionOpenSinceMonth\n",
    "\n",
    "no no, we won't remove thus informations, beacuse they have real realationship with main column data proccess"
   ]
  },
  {
   "cell_type": "markdown",
   "id": "dab19c36",
   "metadata": {},
   "source": [
    "\n",
    "## Data Clean"
   ]
  },
  {
   "cell_type": "code",
   "execution_count": 8,
   "id": "ec5f47e0",
   "metadata": {},
   "outputs": [],
   "source": [
    "clean_data = _data.copy().drop('Open', axis=1)\n",
    "\n",
    "clean_data.loc[clean_data.Promo2==0, ['Promo2SinceYear', 'Promo2SinceWeek']] = 0\n",
    "clean_data.loc[clean_data.Promo2==0, 'PromoInterval'] = 'None'"
   ]
  },
  {
   "cell_type": "code",
   "execution_count": 9,
   "id": "b378bbae",
   "metadata": {},
   "outputs": [],
   "source": [
    "cdn_condition = clean_data.CompetitionDistance.isna()\n",
    "clean_data.loc[cdn_condition, \"HasCompetition\"] = 0\n",
    "clean_data.loc[~cdn_condition, \"HasCompetition\"] = 1\n",
    "clean_data[\"HasCompetition\"] = clean_data[\"HasCompetition\"].astype(\"category\")"
   ]
  },
  {
   "cell_type": "markdown",
   "id": "48c37df4",
   "metadata": {},
   "source": [
    "Identify Categorical column:\n",
    "* Promo\n",
    "* StateHoliday\n",
    "* SchoolHoliday\n",
    "* StoreType\n",
    "* Assortment\n",
    "* Promo2\n",
    "* PromoInterval\n",
    "* month\n",
    "* CompetitionOpenSinceYear\n",
    "* CompetitionOpenSinceMonth\n",
    "* Promo2SinceYear\n",
    "* year\n",
    "\n",
    "\n",
    "lowering data scale (numeric datas):\n",
    "* Promo2SinceWeek: int8\n",
    "* CompetitionDistance: int32\n",
    "* Customers: int16\n",
    "* Sales: int32\n"
   ]
  },
  {
   "cell_type": "markdown",
   "id": "0026a0bd",
   "metadata": {},
   "source": [
    "### Type Optimazation"
   ]
  },
  {
   "cell_type": "code",
   "execution_count": 10,
   "id": "f3f755ee",
   "metadata": {},
   "outputs": [],
   "source": [
    "clean_data[\n",
    "    [\n",
    "        \"Promo\",\n",
    "        \"StateHoliday\",\n",
    "        \"SchoolHoliday\",\n",
    "        \"StoreType\",\n",
    "        \"Assortment\",\n",
    "        \"Promo2\",\n",
    "        \"PromoInterval\",\n",
    "        \"month\",\n",
    "        \"CompetitionOpenSinceMonth\",\n",
    "        \"Promo2SinceYear\",\n",
    "        \"year\",\n",
    "    ]\n",
    "] = clean_data[\n",
    "    [\n",
    "        \"Promo\",\n",
    "        \"StateHoliday\",\n",
    "        \"SchoolHoliday\",\n",
    "        \"StoreType\",\n",
    "        \"Assortment\",\n",
    "        \"Promo2\",\n",
    "        \"PromoInterval\",\n",
    "        \"month\",\n",
    "        \"CompetitionOpenSinceMonth\",\n",
    "        \"Promo2SinceYear\",\n",
    "        \"year\",\n",
    "    ]\n",
    "].astype(\n",
    "    \"category\"\n",
    ")\n",
    "\n",
    "clean_data[\"Sales\"] = clean_data[\"Sales\"].astype(\"Float32\")\n",
    "clean_data[\"CompetitionOpenSinceYear\"] = clean_data[\"CompetitionOpenSinceYear\"].astype(\"Float32\")\n",
    "clean_data[\"CompetitionDistance\"] = clean_data[\"CompetitionDistance\"].astype(\"Float32\")\n",
    "clean_data[\"Promo2SinceWeek\"] = clean_data[\"Promo2SinceWeek\"].astype(\"Float32\")\n",
    "clean_data[\"Customers\"] = clean_data[\"Customers\"].astype(\"Float32\")"
   ]
  },
  {
   "cell_type": "code",
   "execution_count": 11,
   "id": "5913e486",
   "metadata": {},
   "outputs": [
    {
     "name": "stdout",
     "output_type": "stream",
     "text": [
      "<class 'pandas.core.frame.DataFrame'>\n",
      "RangeIndex: 168607 entries, 0 to 168606\n",
      "Data columns (total 17 columns):\n",
      " #   Column                     Non-Null Count   Dtype   \n",
      "---  ------                     --------------   -----   \n",
      " 0   Sales                      168607 non-null  Float32 \n",
      " 1   Customers                  168607 non-null  Float32 \n",
      " 2   Promo                      168607 non-null  category\n",
      " 3   StateHoliday               168607 non-null  category\n",
      " 4   SchoolHoliday              168607 non-null  category\n",
      " 5   StoreType                  168607 non-null  category\n",
      " 6   Assortment                 168607 non-null  category\n",
      " 7   CompetitionDistance        168179 non-null  Float32 \n",
      " 8   CompetitionOpenSinceMonth  114961 non-null  category\n",
      " 9   CompetitionOpenSinceYear   114961 non-null  Float32 \n",
      " 10  Promo2                     168607 non-null  category\n",
      " 11  Promo2SinceWeek            168607 non-null  Float32 \n",
      " 12  Promo2SinceYear            168607 non-null  category\n",
      " 13  PromoInterval              168607 non-null  category\n",
      " 14  month                      168607 non-null  category\n",
      " 15  year                       168607 non-null  category\n",
      " 16  HasCompetition             168607 non-null  category\n",
      "dtypes: Float32(5), category(12)\n",
      "memory usage: 6.0 MB\n"
     ]
    }
   ],
   "source": [
    "clean_data.info()"
   ]
  },
  {
   "cell_type": "code",
   "execution_count": 12,
   "id": "c8d77b53",
   "metadata": {},
   "outputs": [
    {
     "data": {
      "text/plain": [
       "0"
      ]
     },
     "execution_count": 12,
     "metadata": {},
     "output_type": "execute_result"
    }
   ],
   "source": [
    "clean_data.loc[clean_data.duplicated()].size\n",
    "# ok!"
   ]
  },
  {
   "cell_type": "code",
   "execution_count": 13,
   "id": "2d8ad8ce",
   "metadata": {},
   "outputs": [
    {
     "name": "stdout",
     "output_type": "stream",
     "text": [
      "Percent of nullable values:  31.82%\n"
     ]
    }
   ],
   "source": [
    "print(f\"Percent of nullable values: {(clean_data.isnull().any(axis=1).sum() / len(clean_data)) * 100: .2f}%\")"
   ]
  },
  {
   "cell_type": "code",
   "execution_count": 14,
   "id": "134c2744",
   "metadata": {},
   "outputs": [
    {
     "name": "stdout",
     "output_type": "stream",
     "text": [
      "CompetitionOpenSinceMonth    53646\n",
      "CompetitionOpenSinceYear     53646\n",
      "CompetitionDistance            428\n",
      "dtype: int64\n"
     ]
    }
   ],
   "source": [
    "missing_counts = clean_data.isnull().sum()\n",
    "print(missing_counts[missing_counts > 0].sort_values(ascending=False))"
   ]
  },
  {
   "cell_type": "markdown",
   "id": "40089f96",
   "metadata": {},
   "source": [
    "Does not having a competitor have anything to do with the corresponding values ​​being null?"
   ]
  },
  {
   "cell_type": "code",
   "execution_count": 15,
   "id": "ad86b68b",
   "metadata": {},
   "outputs": [
    {
     "name": "stdout",
     "output_type": "stream",
     "text": [
      "428\n",
      "428\n"
     ]
    }
   ],
   "source": [
    "print(\n",
    "    clean_data.loc[\n",
    "        clean_data[\"HasCompetition\"] == 0 & clean_data.isnull()[\"CompetitionDistance\"]\n",
    "    ].shape[0]\n",
    ")\n",
    "\n",
    "print(\n",
    "    clean_data.loc[\n",
    "        clean_data[\"HasCompetition\"] == 0 & clean_data.isnull()[\"CompetitionOpenSinceMonth\"]\n",
    "    ].shape[0]\n",
    ")"
   ]
  },
  {
   "cell_type": "markdown",
   "id": "4ac293e7",
   "metadata": {},
   "source": [
    "Actually! yes! all of them have not competition.\n",
    "\n",
    "well, how about CompetitionDistance and CompetitionOpenSinceMonth?"
   ]
  },
  {
   "cell_type": "code",
   "execution_count": 16,
   "id": "d5c51714",
   "metadata": {},
   "outputs": [
    {
     "name": "stdout",
     "output_type": "stream",
     "text": [
      "428\n"
     ]
    }
   ],
   "source": [
    "print(\n",
    "    clean_data.loc[\n",
    "        clean_data.isnull()[\"CompetitionDistance\"]\n",
    "        & clean_data.isnull()[\"CompetitionOpenSinceMonth\"]\n",
    "    ].shape[0]\n",
    ")"
   ]
  },
  {
   "cell_type": "markdown",
   "id": "69226249",
   "metadata": {},
   "source": [
    "yes! all of them!\n",
    "\n",
    "and but, what about thus 53646-428 null values?"
   ]
  },
  {
   "cell_type": "code",
   "execution_count": 17,
   "id": "817c7adf",
   "metadata": {},
   "outputs": [
    {
     "name": "stdout",
     "output_type": "stream",
     "text": [
      "53218\n"
     ]
    }
   ],
   "source": [
    "print(\n",
    "    clean_data.loc[\n",
    "        clean_data[\"HasCompetition\"] == 1\n",
    "        & clean_data.isnull()[\"CompetitionOpenSinceMonth\"]\n",
    "    ].shape[0]\n",
    ")"
   ]
  },
  {
   "cell_type": "markdown",
   "id": "a11634ba",
   "metadata": {},
   "source": [
    "all of them are real missing value"
   ]
  },
  {
   "cell_type": "code",
   "execution_count": 18,
   "id": "9cd3e7b5",
   "metadata": {},
   "outputs": [],
   "source": [
    "clean_data.loc[clean_data['HasCompetition'] == 0, 'CompetitionDistance'] = -1"
   ]
  },
  {
   "cell_type": "markdown",
   "id": "d0d90a9b",
   "metadata": {},
   "source": [
    "review your code"
   ]
  },
  {
   "cell_type": "code",
   "execution_count": 19,
   "id": "fa52126f",
   "metadata": {},
   "outputs": [
    {
     "data": {
      "text/html": [
       "<div>\n",
       "<style scoped>\n",
       "    .dataframe tbody tr th:only-of-type {\n",
       "        vertical-align: middle;\n",
       "    }\n",
       "\n",
       "    .dataframe tbody tr th {\n",
       "        vertical-align: top;\n",
       "    }\n",
       "\n",
       "    .dataframe thead th {\n",
       "        text-align: right;\n",
       "    }\n",
       "</style>\n",
       "<table border=\"1\" class=\"dataframe\">\n",
       "  <thead>\n",
       "    <tr style=\"text-align: right;\">\n",
       "      <th></th>\n",
       "      <th>Sales</th>\n",
       "      <th>Customers</th>\n",
       "      <th>CompetitionDistance</th>\n",
       "      <th>CompetitionOpenSinceYear</th>\n",
       "      <th>Promo2SinceWeek</th>\n",
       "    </tr>\n",
       "  </thead>\n",
       "  <tbody>\n",
       "    <tr>\n",
       "      <th>count</th>\n",
       "      <td>168607.0</td>\n",
       "      <td>168607.0</td>\n",
       "      <td>168607.0</td>\n",
       "      <td>114961.0</td>\n",
       "      <td>168607.0</td>\n",
       "    </tr>\n",
       "    <tr>\n",
       "      <th>mean</th>\n",
       "      <td>7720.344727</td>\n",
       "      <td>763.247253</td>\n",
       "      <td>5439.114746</td>\n",
       "      <td>2008.710327</td>\n",
       "      <td>11.563897</td>\n",
       "    </tr>\n",
       "    <tr>\n",
       "      <th>std</th>\n",
       "      <td>3432.319336</td>\n",
       "      <td>401.002441</td>\n",
       "      <td>7816.919434</td>\n",
       "      <td>5.965995</td>\n",
       "      <td>15.297647</td>\n",
       "    </tr>\n",
       "    <tr>\n",
       "      <th>min</th>\n",
       "      <td>326.0</td>\n",
       "      <td>40.0</td>\n",
       "      <td>-1.0</td>\n",
       "      <td>1900.0</td>\n",
       "      <td>0.0</td>\n",
       "    </tr>\n",
       "    <tr>\n",
       "      <th>25%</th>\n",
       "      <td>5417.0</td>\n",
       "      <td>520.0</td>\n",
       "      <td>710.0</td>\n",
       "      <td>2006.0</td>\n",
       "      <td>0.0</td>\n",
       "    </tr>\n",
       "    <tr>\n",
       "      <th>50%</th>\n",
       "      <td>7078.0</td>\n",
       "      <td>678.0</td>\n",
       "      <td>2320.0</td>\n",
       "      <td>2010.0</td>\n",
       "      <td>0.0</td>\n",
       "    </tr>\n",
       "    <tr>\n",
       "      <th>75%</th>\n",
       "      <td>9235.0</td>\n",
       "      <td>893.0</td>\n",
       "      <td>6870.0</td>\n",
       "      <td>2013.0</td>\n",
       "      <td>22.0</td>\n",
       "    </tr>\n",
       "    <tr>\n",
       "      <th>max</th>\n",
       "      <td>43559.0</td>\n",
       "      <td>5192.0</td>\n",
       "      <td>75860.0</td>\n",
       "      <td>2015.0</td>\n",
       "      <td>50.0</td>\n",
       "    </tr>\n",
       "  </tbody>\n",
       "</table>\n",
       "</div>"
      ],
      "text/plain": [
       "             Sales   Customers  CompetitionDistance  CompetitionOpenSinceYear  \\\n",
       "count     168607.0    168607.0             168607.0                  114961.0   \n",
       "mean   7720.344727  763.247253          5439.114746               2008.710327   \n",
       "std    3432.319336  401.002441          7816.919434                  5.965995   \n",
       "min          326.0        40.0                 -1.0                    1900.0   \n",
       "25%         5417.0       520.0                710.0                    2006.0   \n",
       "50%         7078.0       678.0               2320.0                    2010.0   \n",
       "75%         9235.0       893.0               6870.0                    2013.0   \n",
       "max        43559.0      5192.0              75860.0                    2015.0   \n",
       "\n",
       "       Promo2SinceWeek  \n",
       "count         168607.0  \n",
       "mean         11.563897  \n",
       "std          15.297647  \n",
       "min                0.0  \n",
       "25%                0.0  \n",
       "50%                0.0  \n",
       "75%               22.0  \n",
       "max               50.0  "
      ]
     },
     "execution_count": 19,
     "metadata": {},
     "output_type": "execute_result"
    }
   ],
   "source": [
    "clean_data.describe()"
   ]
  },
  {
   "cell_type": "code",
   "execution_count": 20,
   "id": "de40456d",
   "metadata": {},
   "outputs": [
    {
     "data": {
      "text/html": [
       "<div>\n",
       "<style scoped>\n",
       "    .dataframe tbody tr th:only-of-type {\n",
       "        vertical-align: middle;\n",
       "    }\n",
       "\n",
       "    .dataframe tbody tr th {\n",
       "        vertical-align: top;\n",
       "    }\n",
       "\n",
       "    .dataframe thead th {\n",
       "        text-align: right;\n",
       "    }\n",
       "</style>\n",
       "<table border=\"1\" class=\"dataframe\">\n",
       "  <thead>\n",
       "    <tr style=\"text-align: right;\">\n",
       "      <th></th>\n",
       "      <th>Sales</th>\n",
       "      <th>Customers</th>\n",
       "      <th>Promo</th>\n",
       "      <th>StateHoliday</th>\n",
       "      <th>SchoolHoliday</th>\n",
       "      <th>StoreType</th>\n",
       "      <th>Assortment</th>\n",
       "      <th>CompetitionDistance</th>\n",
       "      <th>CompetitionOpenSinceMonth</th>\n",
       "      <th>CompetitionOpenSinceYear</th>\n",
       "      <th>Promo2</th>\n",
       "      <th>Promo2SinceWeek</th>\n",
       "      <th>Promo2SinceYear</th>\n",
       "      <th>PromoInterval</th>\n",
       "      <th>month</th>\n",
       "      <th>year</th>\n",
       "      <th>HasCompetition</th>\n",
       "    </tr>\n",
       "  </thead>\n",
       "  <tbody>\n",
       "    <tr>\n",
       "      <th>0</th>\n",
       "      <td>5571.0</td>\n",
       "      <td>560.0</td>\n",
       "      <td>1</td>\n",
       "      <td>0</td>\n",
       "      <td>1</td>\n",
       "      <td>c</td>\n",
       "      <td>a</td>\n",
       "      <td>1270.0</td>\n",
       "      <td>9.0</td>\n",
       "      <td>2008.0</td>\n",
       "      <td>0</td>\n",
       "      <td>0.0</td>\n",
       "      <td>0.0</td>\n",
       "      <td>None</td>\n",
       "      <td>7</td>\n",
       "      <td>15</td>\n",
       "      <td>1.0</td>\n",
       "    </tr>\n",
       "    <tr>\n",
       "      <th>1</th>\n",
       "      <td>6714.0</td>\n",
       "      <td>612.0</td>\n",
       "      <td>1</td>\n",
       "      <td>0</td>\n",
       "      <td>1</td>\n",
       "      <td>c</td>\n",
       "      <td>a</td>\n",
       "      <td>1270.0</td>\n",
       "      <td>9.0</td>\n",
       "      <td>2008.0</td>\n",
       "      <td>0</td>\n",
       "      <td>0.0</td>\n",
       "      <td>0.0</td>\n",
       "      <td>None</td>\n",
       "      <td>7</td>\n",
       "      <td>15</td>\n",
       "      <td>1.0</td>\n",
       "    </tr>\n",
       "    <tr>\n",
       "      <th>2</th>\n",
       "      <td>5371.0</td>\n",
       "      <td>519.0</td>\n",
       "      <td>1</td>\n",
       "      <td>0</td>\n",
       "      <td>0</td>\n",
       "      <td>c</td>\n",
       "      <td>a</td>\n",
       "      <td>1270.0</td>\n",
       "      <td>9.0</td>\n",
       "      <td>2008.0</td>\n",
       "      <td>0</td>\n",
       "      <td>0.0</td>\n",
       "      <td>0.0</td>\n",
       "      <td>None</td>\n",
       "      <td>7</td>\n",
       "      <td>15</td>\n",
       "      <td>1.0</td>\n",
       "    </tr>\n",
       "    <tr>\n",
       "      <th>3</th>\n",
       "      <td>4257.0</td>\n",
       "      <td>449.0</td>\n",
       "      <td>0</td>\n",
       "      <td>0</td>\n",
       "      <td>0</td>\n",
       "      <td>c</td>\n",
       "      <td>a</td>\n",
       "      <td>1270.0</td>\n",
       "      <td>9.0</td>\n",
       "      <td>2008.0</td>\n",
       "      <td>0</td>\n",
       "      <td>0.0</td>\n",
       "      <td>0.0</td>\n",
       "      <td>None</td>\n",
       "      <td>7</td>\n",
       "      <td>15</td>\n",
       "      <td>1.0</td>\n",
       "    </tr>\n",
       "    <tr>\n",
       "      <th>4</th>\n",
       "      <td>4209.0</td>\n",
       "      <td>447.0</td>\n",
       "      <td>0</td>\n",
       "      <td>0</td>\n",
       "      <td>0</td>\n",
       "      <td>c</td>\n",
       "      <td>a</td>\n",
       "      <td>1270.0</td>\n",
       "      <td>9.0</td>\n",
       "      <td>2008.0</td>\n",
       "      <td>0</td>\n",
       "      <td>0.0</td>\n",
       "      <td>0.0</td>\n",
       "      <td>None</td>\n",
       "      <td>6</td>\n",
       "      <td>15</td>\n",
       "      <td>1.0</td>\n",
       "    </tr>\n",
       "  </tbody>\n",
       "</table>\n",
       "</div>"
      ],
      "text/plain": [
       "    Sales  Customers Promo StateHoliday SchoolHoliday StoreType Assortment  \\\n",
       "0  5571.0      560.0     1            0             1         c          a   \n",
       "1  6714.0      612.0     1            0             1         c          a   \n",
       "2  5371.0      519.0     1            0             0         c          a   \n",
       "3  4257.0      449.0     0            0             0         c          a   \n",
       "4  4209.0      447.0     0            0             0         c          a   \n",
       "\n",
       "   CompetitionDistance CompetitionOpenSinceMonth  CompetitionOpenSinceYear  \\\n",
       "0               1270.0                       9.0                    2008.0   \n",
       "1               1270.0                       9.0                    2008.0   \n",
       "2               1270.0                       9.0                    2008.0   \n",
       "3               1270.0                       9.0                    2008.0   \n",
       "4               1270.0                       9.0                    2008.0   \n",
       "\n",
       "  Promo2  Promo2SinceWeek Promo2SinceYear PromoInterval month year  \\\n",
       "0      0              0.0             0.0          None     7   15   \n",
       "1      0              0.0             0.0          None     7   15   \n",
       "2      0              0.0             0.0          None     7   15   \n",
       "3      0              0.0             0.0          None     7   15   \n",
       "4      0              0.0             0.0          None     6   15   \n",
       "\n",
       "  HasCompetition  \n",
       "0            1.0  \n",
       "1            1.0  \n",
       "2            1.0  \n",
       "3            1.0  \n",
       "4            1.0  "
      ]
     },
     "execution_count": 20,
     "metadata": {},
     "output_type": "execute_result"
    }
   ],
   "source": [
    "clean_data.head()"
   ]
  },
  {
   "cell_type": "code",
   "execution_count": 21,
   "id": "a0349a01",
   "metadata": {},
   "outputs": [
    {
     "data": {
      "image/png": "[encoded data removed]",
      "text/plain": [
       "<Figure size 1200x500 with 3 Axes>"
      ]
     },
     "metadata": {},
     "output_type": "display_data"
    }
   ],
   "source": [
    "# Sales, Customers, CopetitionDistance, \n",
    "\n",
    "fig, axes = plt.subplots(1,3, figsize=(12,5))\n",
    "axes[0].set_title('Sales')\n",
    "axes[0].boxplot(clean_data['Sales'])\n",
    "\n",
    "axes[1].set_title('Customers')\n",
    "axes[1].boxplot(clean_data['Customers'])\n",
    "\n",
    "axes[2].set_title('CompetitionDistance')\n",
    "axes[2].boxplot(clean_data['CompetitionDistance'])\n",
    "plt.show()"
   ]
  },
  {
   "cell_type": "markdown",
   "id": "e88161a7",
   "metadata": {},
   "source": [
    "### Encoding Data"
   ]
  },
  {
   "cell_type": "code",
   "execution_count": 22,
   "id": "72fd10f4",
   "metadata": {},
   "outputs": [
    {
     "name": "stdout",
     "output_type": "stream",
     "text": [
      "{'Feb,May,Aug,Nov': np.int64(0), 'Jan,Apr,Jul,Oct': np.int64(1), 'Mar,Jun,Sept,Dec': np.int64(2), 'None': np.int64(3)}\n",
      "{'a': np.int64(0), 'b': np.int64(1), 'c': np.int64(2), 'd': np.int64(3)}\n",
      "{'a': np.int64(0), 'b': np.int64(1), 'c': np.int64(2)}\n",
      "{'0': np.int64(0), 'a': np.int64(1), 'b': np.int64(2), 'c': np.int64(3)}\n"
     ]
    }
   ],
   "source": [
    "from sklearn.preprocessing import LabelEncoder, OneHotEncoder\n",
    "from sklearn.compose import ColumnTransformer\n",
    "\n",
    "# Label Encoding\n",
    "label_encodes = {\n",
    "    \"PromoInterval\": LabelEncoder().fit(clean_data[\"PromoInterval\"]),\n",
    "    \"StoreType\": LabelEncoder().fit(clean_data[\"StoreType\"]),\n",
    "    \"Assortment\": LabelEncoder().fit(clean_data[\"Assortment\"]),\n",
    "    \"StateHoliday\": LabelEncoder().fit(clean_data[\"StateHoliday\"]),\n",
    "}\n",
    "\n",
    "for col, le in label_encodes.items():\n",
    "    clean_data[col] = le.transform(clean_data[col])\n",
    "    print(dict(zip(le.classes_, le.transform(le.classes_))))"
   ]
  },
  {
   "cell_type": "code",
   "execution_count": 23,
   "id": "2a81f28f",
   "metadata": {},
   "outputs": [],
   "source": [
    "clean_data_filled = clean_data.sample(n=5000, random_state=42)\n",
    "_cols = clean_data_filled.select_dtypes(include=\"category\").columns\n",
    "for col in _cols:\n",
    "    clean_data_filled[col] = clean_data_filled[col].astype(\"Float32\")\n",
    "clean_data_filled = clean_data_filled.fillna(-1)\n",
    "\n",
    "clean_data_filled = RobustScaler().fit_transform(clean_data_filled)\n",
    "# Normalization: using standardscaler can be a problem if the data contains outliers"
   ]
  },
  {
   "cell_type": "markdown",
   "id": "df3ca9da",
   "metadata": {},
   "source": [
    "we need to feature engineer our dataset to improve model performance. This includes creating new features, transforming existing ones, and selecting the most relevant features for our model.\n",
    "\n",
    "why? because my DBSCAN model can kill my system when i have many features! (^_*)"
   ]
  },
  {
   "cell_type": "markdown",
   "id": "edd4643a",
   "metadata": {},
   "source": [
    "#### PCA"
   ]
  },
  {
   "cell_type": "code",
   "execution_count": 30,
   "id": "43754856",
   "metadata": {},
   "outputs": [
    {
     "name": "stdout",
     "output_type": "stream",
     "text": [
      "[0.27978351 0.52160391 0.65277873 0.74327501 0.79721061 0.84668748\n",
      " 0.88448127 0.91701606 0.93928292 0.95925132 0.97821657 0.99013977\n",
      " 0.99524988 0.99949798 0.99976092 0.99999998 1.        ]\n"
     ]
    }
   ],
   "source": [
    "from sklearn.decomposition import PCA\n",
    "\n",
    "pca = PCA()\n",
    "pca.fit(clean_data_filled)\n",
    "print(pca.explained_variance_ratio_.cumsum())\n",
    "\n",
    "_top_components = pca.components_[:8]\n",
    "# اعمال کاهش ابعاد با ضرب ماتریسی\n",
    "_reduced_data = np.dot(clean_data_filled - pca.mean_, _top_components.T)"
   ]
  },
  {
   "cell_type": "code",
   "execution_count": 31,
   "id": "9d49225a",
   "metadata": {},
   "outputs": [
    {
     "data": {
      "text/plain": [
       "(5000, 8)"
      ]
     },
     "execution_count": 31,
     "metadata": {},
     "output_type": "execute_result"
    }
   ],
   "source": [
    "_reduced_data.shape"
   ]
  },
  {
   "cell_type": "code",
   "execution_count": 51,
   "id": "b0766848",
   "metadata": {},
   "outputs": [
    {
     "name": "stdout",
     "output_type": "stream",
     "text": [
      "9\n"
     ]
    },
    {
     "data": {
      "image/png": "[encoded data removed]",
      "text/plain": [
       "<Figure size 640x480 with 1 Axes>"
      ]
     },
     "metadata": {},
     "output_type": "display_data"
    }
   ],
   "source": [
    "from sklearn.neighbors import NearestNeighbors\n",
    "\n",
    "count_samples = _reduced_data.shape[1] + 1\n",
    "print(count_samples)\n",
    "\n",
    "neighbors_fit = NearestNeighbors(n_neighbors=count_samples).fit(_reduced_data)\n",
    "distances, indices = neighbors_fit.kneighbors(_reduced_data)\n",
    "\n",
    "# مرتب‌سازی فاصله‌ها\n",
    "distances = np.sort(distances[:, count_samples - 1])\n",
    "plt.plot(distances)\n",
    "plt.xlabel(\"Points\")\n",
    "plt.ylabel(f\"{count_samples}th Nearest Distance\")\n",
    "plt.title(\"K-Distance Graph\")\n",
    "plt.show()"
   ]
  },
  {
   "cell_type": "code",
   "execution_count": 53,
   "id": "2caa90c9",
   "metadata": {},
   "outputs": [
    {
     "data": {
      "text/plain": [
       "np.float64(1.9552810693565377)"
      ]
     },
     "execution_count": 53,
     "metadata": {},
     "output_type": "execute_result"
    }
   ],
   "source": [
    "from kneed import KneeLocator\n",
    "eps_value_index = KneeLocator(\n",
    "    range(len(distances)),  # محور x\n",
    "    distances,              # محور y\n",
    "    curve=\"convex\",         # چون نمودار صعودیه\n",
    "    direction=\"increasing\"  # چون فاصله‌ها زیاد می‌شن\n",
    ").knee\n",
    "\n",
    "distances[eps_value_index]"
   ]
  },
  {
   "cell_type": "code",
   "execution_count": 66,
   "id": "03d6d08f",
   "metadata": {},
   "outputs": [
    {
     "data": {
      "text/plain": [
       "array([-1,  0,  1])"
      ]
     },
     "execution_count": 66,
     "metadata": {},
     "output_type": "execute_result"
    }
   ],
   "source": [
    "dbscan = DBSCAN(eps=distances[eps_value_index], min_samples=3).fit(_reduced_data)\n",
    "np.unique(dbscan.labels_)"
   ]
  }
 ],
 "metadata": {
  "kernelspec": {
   "display_name": ".venv",
   "language": "python",
   "name": "python3"
  },
  "language_info": {
   "codemirror_mode": {
    "name": "ipython",
    "version": 3
   },
   "file_extension": ".py",
   "mimetype": "text/x-python",
   "name": "python",
   "nbconvert_exporter": "python",
   "pygments_lexer": "ipython3",
   "version": "3.9.18"
  }
 },
 "nbformat": 4,
 "nbformat_minor": 5
}
